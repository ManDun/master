{
 "cells": [
  {
   "cell_type": "code",
   "execution_count": 1,
   "metadata": {},
   "outputs": [],
   "source": [
    "import tensorflow as tf\n",
    "from tensorflow import keras\n",
    "import numpy as np"
   ]
  },
  {
   "cell_type": "code",
   "execution_count": 2,
   "metadata": {},
   "outputs": [
    {
     "name": "stdout",
     "output_type": "stream",
     "text": [
      "Downloading data from https://storage.googleapis.com/tensorflow/tf-keras-datasets/imdb.npz\n",
      "17465344/17464789 [==============================] - 20s 1us/step\n"
     ]
    }
   ],
   "source": [
    "imdb = keras.datasets.imdb\n",
    "\n",
    "(train_data, train_labels), (test_data, test_labels) = imdb.load_data(num_words=10000)"
   ]
  },
  {
   "cell_type": "code",
   "execution_count": 3,
   "metadata": {},
   "outputs": [
    {
     "name": "stdout",
     "output_type": "stream",
     "text": [
      "Training entries: 25000, labels: 25000\n"
     ]
    }
   ],
   "source": [
    "print(\"Training entries: {}, labels: {}\".format(len(train_data), len(train_labels)))"
   ]
  },
  {
   "cell_type": "code",
   "execution_count": 4,
   "metadata": {},
   "outputs": [
    {
     "name": "stdout",
     "output_type": "stream",
     "text": [
      "Training entries: 25000, labels: 25000\n"
     ]
    }
   ],
   "source": [
    "print(\"Training entries: {}, labels: {}\".format(len(test_data), len(test_labels)))"
   ]
  },
  {
   "cell_type": "code",
   "execution_count": 5,
   "metadata": {},
   "outputs": [
    {
     "name": "stdout",
     "output_type": "stream",
     "text": [
      "[1, 14, 22, 16, 43, 530, 973, 1622, 1385, 65, 458, 4468, 66, 3941, 4, 173, 36, 256, 5, 25, 100, 43, 838, 112, 50, 670, 2, 9, 35, 480, 284, 5, 150, 4, 172, 112, 167, 2, 336, 385, 39, 4, 172, 4536, 1111, 17, 546, 38, 13, 447, 4, 192, 50, 16, 6, 147, 2025, 19, 14, 22, 4, 1920, 4613, 469, 4, 22, 71, 87, 12, 16, 43, 530, 38, 76, 15, 13, 1247, 4, 22, 17, 515, 17, 12, 16, 626, 18, 2, 5, 62, 386, 12, 8, 316, 8, 106, 5, 4, 2223, 5244, 16, 480, 66, 3785, 33, 4, 130, 12, 16, 38, 619, 5, 25, 124, 51, 36, 135, 48, 25, 1415, 33, 6, 22, 12, 215, 28, 77, 52, 5, 14, 407, 16, 82, 2, 8, 4, 107, 117, 5952, 15, 256, 4, 2, 7, 3766, 5, 723, 36, 71, 43, 530, 476, 26, 400, 317, 46, 7, 4, 2, 1029, 13, 104, 88, 4, 381, 15, 297, 98, 32, 2071, 56, 26, 141, 6, 194, 7486, 18, 4, 226, 22, 21, 134, 476, 26, 480, 5, 144, 30, 5535, 18, 51, 36, 28, 224, 92, 25, 104, 4, 226, 65, 16, 38, 1334, 88, 12, 16, 283, 5, 16, 4472, 113, 103, 32, 15, 16, 5345, 19, 178, 32]\n"
     ]
    }
   ],
   "source": [
    "print(train_data[0])"
   ]
  },
  {
   "cell_type": "code",
   "execution_count": 6,
   "metadata": {},
   "outputs": [
    {
     "name": "stdout",
     "output_type": "stream",
     "text": [
      "Downloading data from https://storage.googleapis.com/tensorflow/tf-keras-datasets/imdb_word_index.json\n",
      "1646592/1641221 [==============================] - 1s 1us/step\n"
     ]
    }
   ],
   "source": [
    "# A dictionary mapping words to an integer index\n",
    "word_index = imdb.get_word_index()\n",
    "\n",
    "# The first indices are reserved\n",
    "word_index = {k:(v+3) for k,v in word_index.items()} \n",
    "word_index[\"<PAD>\"] = 0\n",
    "word_index[\"<START>\"] = 1\n",
    "word_index[\"<UNK>\"] = 2  # unknown\n",
    "word_index[\"<UNUSED>\"] = 3\n",
    "\n",
    "reverse_word_index = dict([(value, key) for (key, value) in word_index.items()])\n",
    "\n",
    "def decode_review(text):\n",
    "    return ' '.join([reverse_word_index.get(i, '?') for i in text])"
   ]
  },
  {
   "cell_type": "code",
   "execution_count": 8,
   "metadata": {},
   "outputs": [
    {
     "data": {
      "text/plain": [
       "\"<START> this film was just brilliant casting location scenery story direction everyone's really suited the part they played and you could just imagine being there robert <UNK> is an amazing actor and now the same being director <UNK> father came from the same scottish island as myself so i loved the fact there was a real connection with this film the witty remarks throughout the film were great it was just brilliant so much that i bought the film as soon as it was released for <UNK> and would recommend it to everyone to watch and the fly fishing was amazing really cried at the end it was so sad and you know what they say if you cry at a film it must have been good and this definitely was also <UNK> to the two little boy's that played the <UNK> of norman and paul they were just brilliant children are often left out of the <UNK> list i think because the stars that play them all grown up are such a big profile for the whole film but these children are amazing and should be praised for what they have done don't you think the whole story was so lovely because it was true and was someone's life after all that was shared with us all\""
      ]
     },
     "execution_count": 8,
     "metadata": {},
     "output_type": "execute_result"
    }
   ],
   "source": [
    "decode_review(train_data[0])"
   ]
  },
  {
   "cell_type": "code",
   "execution_count": 10,
   "metadata": {},
   "outputs": [
    {
     "data": {
      "text/plain": [
       "14"
      ]
     },
     "execution_count": 10,
     "metadata": {},
     "output_type": "execute_result"
    }
   ],
   "source": [
    "word_index['this']"
   ]
  },
  {
   "cell_type": "code",
   "execution_count": 11,
   "metadata": {},
   "outputs": [],
   "source": [
    "train_data = keras.preprocessing.sequence.pad_sequences(train_data,\n",
    "                                                        value=word_index[\"<PAD>\"],\n",
    "                                                        padding='post',\n",
    "                                                        maxlen=256)\n",
    "\n",
    "test_data = keras.preprocessing.sequence.pad_sequences(test_data,\n",
    "                                                       value=word_index[\"<PAD>\"],\n",
    "                                                       padding='post',\n",
    "                                                       maxlen=256)"
   ]
  },
  {
   "cell_type": "code",
   "execution_count": 12,
   "metadata": {},
   "outputs": [
    {
     "data": {
      "text/plain": [
       "(256, 256)"
      ]
     },
     "execution_count": 12,
     "metadata": {},
     "output_type": "execute_result"
    }
   ],
   "source": [
    "len(train_data[0]), len(train_data[1])"
   ]
  },
  {
   "cell_type": "code",
   "execution_count": 13,
   "metadata": {},
   "outputs": [
    {
     "name": "stdout",
     "output_type": "stream",
     "text": [
      "_________________________________________________________________\n",
      "Layer (type)                 Output Shape              Param #   \n",
      "=================================================================\n",
      "embedding (Embedding)        (None, None, 16)          160000    \n",
      "_________________________________________________________________\n",
      "global_average_pooling1d (Gl (None, 16)                0         \n",
      "_________________________________________________________________\n",
      "dense (Dense)                (None, 16)                272       \n",
      "_________________________________________________________________\n",
      "dense_1 (Dense)              (None, 1)                 17        \n",
      "=================================================================\n",
      "Total params: 160,289\n",
      "Trainable params: 160,289\n",
      "Non-trainable params: 0\n",
      "_________________________________________________________________\n"
     ]
    }
   ],
   "source": [
    "# input shape is the vocabulary count used for the movie reviews (10,000 words)\n",
    "vocab_size = 10000\n",
    "\n",
    "model = keras.Sequential()\n",
    "model.add(keras.layers.Embedding(vocab_size, 16))\n",
    "model.add(keras.layers.GlobalAveragePooling1D())\n",
    "model.add(keras.layers.Dense(16, activation=tf.nn.relu))\n",
    "model.add(keras.layers.Dense(1, activation=tf.nn.sigmoid))\n",
    "\n",
    "model.summary()"
   ]
  },
  {
   "cell_type": "code",
   "execution_count": 14,
   "metadata": {},
   "outputs": [],
   "source": [
    "model.compile(optimizer=tf.train.AdamOptimizer(),\n",
    "              loss='binary_crossentropy',\n",
    "              metrics=['accuracy'])"
   ]
  },
  {
   "cell_type": "code",
   "execution_count": 15,
   "metadata": {},
   "outputs": [],
   "source": [
    "x_val = train_data[:10000]\n",
    "partial_x_train = train_data[10000:]\n",
    "\n",
    "y_val = train_labels[:10000]\n",
    "partial_y_train = train_labels[10000:]"
   ]
  },
  {
   "cell_type": "code",
   "execution_count": 16,
   "metadata": {},
   "outputs": [
    {
     "name": "stdout",
     "output_type": "stream",
     "text": [
      "Train on 15000 samples, validate on 10000 samples\n",
      "Epoch 1/40\n",
      "15000/15000 [==============================] - 1s 39us/step - loss: 0.6915 - acc: 0.5339 - val_loss: 0.6891 - val_acc: 0.5821\n",
      "Epoch 2/40\n",
      "15000/15000 [==============================] - 0s 17us/step - loss: 0.6842 - acc: 0.6914 - val_loss: 0.6791 - val_acc: 0.7551\n",
      "Epoch 3/40\n",
      "15000/15000 [==============================] - 0s 17us/step - loss: 0.6689 - acc: 0.7680 - val_loss: 0.6604 - val_acc: 0.7585\n",
      "Epoch 4/40\n",
      "15000/15000 [==============================] - 0s 17us/step - loss: 0.6432 - acc: 0.7759 - val_loss: 0.6327 - val_acc: 0.7665\n",
      "Epoch 5/40\n",
      "15000/15000 [==============================] - 0s 19us/step - loss: 0.6071 - acc: 0.7995 - val_loss: 0.5949 - val_acc: 0.7905\n",
      "Epoch 6/40\n",
      "15000/15000 [==============================] - 0s 19us/step - loss: 0.5630 - acc: 0.8167 - val_loss: 0.5528 - val_acc: 0.8062\n",
      "Epoch 7/40\n",
      "15000/15000 [==============================] - 0s 19us/step - loss: 0.5150 - acc: 0.8349 - val_loss: 0.5095 - val_acc: 0.8222\n",
      "Epoch 8/40\n",
      "15000/15000 [==============================] - 0s 19us/step - loss: 0.4679 - acc: 0.8497 - val_loss: 0.4688 - val_acc: 0.8357\n",
      "Epoch 9/40\n",
      "15000/15000 [==============================] - 0s 31us/step - loss: 0.4254 - acc: 0.8625 - val_loss: 0.4335 - val_acc: 0.8450\n",
      "Epoch 10/40\n",
      "15000/15000 [==============================] - 0s 18us/step - loss: 0.3879 - acc: 0.8761 - val_loss: 0.4044 - val_acc: 0.8511\n",
      "Epoch 11/40\n",
      "15000/15000 [==============================] - 0s 26us/step - loss: 0.3568 - acc: 0.8840 - val_loss: 0.3829 - val_acc: 0.8567\n",
      "Epoch 12/40\n",
      "15000/15000 [==============================] - 0s 18us/step - loss: 0.3310 - acc: 0.8899 - val_loss: 0.3615 - val_acc: 0.8653\n",
      "Epoch 13/40\n",
      "15000/15000 [==============================] - 0s 18us/step - loss: 0.3075 - acc: 0.8977 - val_loss: 0.3469 - val_acc: 0.8691\n",
      "Epoch 14/40\n",
      "15000/15000 [==============================] - 0s 21us/step - loss: 0.2881 - acc: 0.9031 - val_loss: 0.3338 - val_acc: 0.8723\n",
      "Epoch 15/40\n",
      "15000/15000 [==============================] - 0s 25us/step - loss: 0.2714 - acc: 0.9072 - val_loss: 0.3237 - val_acc: 0.8754\n",
      "Epoch 16/40\n",
      "15000/15000 [==============================] - 0s 18us/step - loss: 0.2569 - acc: 0.9113 - val_loss: 0.3154 - val_acc: 0.8776\n",
      "Epoch 17/40\n",
      "15000/15000 [==============================] - 0s 18us/step - loss: 0.2429 - acc: 0.9169 - val_loss: 0.3086 - val_acc: 0.8782\n",
      "Epoch 18/40\n",
      "15000/15000 [==============================] - 0s 23us/step - loss: 0.2308 - acc: 0.9216 - val_loss: 0.3030 - val_acc: 0.8815\n",
      "Epoch 19/40\n",
      "15000/15000 [==============================] - 0s 18us/step - loss: 0.2195 - acc: 0.9249 - val_loss: 0.2984 - val_acc: 0.8818\n",
      "Epoch 20/40\n",
      "15000/15000 [==============================] - 0s 18us/step - loss: 0.2096 - acc: 0.9281 - val_loss: 0.2947 - val_acc: 0.8834\n",
      "Epoch 21/40\n",
      "15000/15000 [==============================] - 0s 18us/step - loss: 0.1999 - acc: 0.9319 - val_loss: 0.2916 - val_acc: 0.8837\n",
      "Epoch 22/40\n",
      "15000/15000 [==============================] - 0s 28us/step - loss: 0.1909 - acc: 0.9355 - val_loss: 0.2896 - val_acc: 0.8833\n",
      "Epoch 23/40\n",
      "15000/15000 [==============================] - 0s 25us/step - loss: 0.1828 - acc: 0.9399 - val_loss: 0.2883 - val_acc: 0.8846\n",
      "Epoch 24/40\n",
      "15000/15000 [==============================] - 0s 18us/step - loss: 0.1747 - acc: 0.9436 - val_loss: 0.2864 - val_acc: 0.8844\n",
      "Epoch 25/40\n",
      "15000/15000 [==============================] - 0s 21us/step - loss: 0.1675 - acc: 0.9466 - val_loss: 0.2855 - val_acc: 0.8848\n",
      "Epoch 26/40\n",
      "15000/15000 [==============================] - 0s 22us/step - loss: 0.1604 - acc: 0.9491 - val_loss: 0.2855 - val_acc: 0.8853\n",
      "Epoch 27/40\n",
      "15000/15000 [==============================] - 0s 21us/step - loss: 0.1544 - acc: 0.9523 - val_loss: 0.2859 - val_acc: 0.8862\n",
      "Epoch 28/40\n",
      "15000/15000 [==============================] - 0s 20us/step - loss: 0.1481 - acc: 0.9553 - val_loss: 0.2856 - val_acc: 0.8869\n",
      "Epoch 29/40\n",
      "15000/15000 [==============================] - 0s 19us/step - loss: 0.1422 - acc: 0.9563 - val_loss: 0.2860 - val_acc: 0.8865\n",
      "Epoch 30/40\n",
      "15000/15000 [==============================] - 0s 19us/step - loss: 0.1371 - acc: 0.9587 - val_loss: 0.2873 - val_acc: 0.8868\n",
      "Epoch 31/40\n",
      "15000/15000 [==============================] - 0s 18us/step - loss: 0.1311 - acc: 0.9611 - val_loss: 0.2886 - val_acc: 0.8864\n",
      "Epoch 32/40\n",
      "15000/15000 [==============================] - 0s 17us/step - loss: 0.1264 - acc: 0.9631 - val_loss: 0.2904 - val_acc: 0.8856\n",
      "Epoch 33/40\n",
      "15000/15000 [==============================] - 0s 19us/step - loss: 0.1209 - acc: 0.9658 - val_loss: 0.2922 - val_acc: 0.8857\n",
      "Epoch 34/40\n",
      "15000/15000 [==============================] - 0s 20us/step - loss: 0.1164 - acc: 0.9670 - val_loss: 0.2946 - val_acc: 0.8849\n",
      "Epoch 35/40\n",
      "15000/15000 [==============================] - 0s 18us/step - loss: 0.1123 - acc: 0.9686 - val_loss: 0.2963 - val_acc: 0.8864\n",
      "Epoch 36/40\n",
      "15000/15000 [==============================] - 0s 20us/step - loss: 0.1074 - acc: 0.9702 - val_loss: 0.2991 - val_acc: 0.8850\n",
      "Epoch 37/40\n",
      "15000/15000 [==============================] - 0s 16us/step - loss: 0.1035 - acc: 0.9715 - val_loss: 0.3019 - val_acc: 0.8841\n",
      "Epoch 38/40\n",
      "15000/15000 [==============================] - 0s 17us/step - loss: 0.1000 - acc: 0.9720 - val_loss: 0.3048 - val_acc: 0.8837\n",
      "Epoch 39/40\n",
      "15000/15000 [==============================] - 0s 17us/step - loss: 0.0956 - acc: 0.9740 - val_loss: 0.3073 - val_acc: 0.8834\n",
      "Epoch 40/40\n",
      "15000/15000 [==============================] - 0s 17us/step - loss: 0.0918 - acc: 0.9761 - val_loss: 0.3107 - val_acc: 0.8825\n"
     ]
    }
   ],
   "source": [
    "history = model.fit(partial_x_train,\n",
    "                    partial_y_train,\n",
    "                    epochs=40,\n",
    "                    batch_size=512,\n",
    "                    validation_data=(x_val, y_val),\n",
    "                    verbose=1)"
   ]
  },
  {
   "cell_type": "code",
   "execution_count": 17,
   "metadata": {},
   "outputs": [
    {
     "name": "stdout",
     "output_type": "stream",
     "text": [
      "25000/25000 [==============================] - 0s 13us/step\n",
      "[0.3315427610397339, 0.8722]\n"
     ]
    }
   ],
   "source": [
    "results = model.evaluate(test_data, test_labels)\n",
    "\n",
    "print(results)"
   ]
  },
  {
   "cell_type": "code",
   "execution_count": 18,
   "metadata": {},
   "outputs": [
    {
     "data": {
      "text/plain": [
       "dict_keys(['val_loss', 'val_acc', 'loss', 'acc'])"
      ]
     },
     "execution_count": 18,
     "metadata": {},
     "output_type": "execute_result"
    }
   ],
   "source": [
    "history_dict = history.history\n",
    "history_dict.keys()"
   ]
  },
  {
   "cell_type": "code",
   "execution_count": 19,
   "metadata": {},
   "outputs": [
    {
     "data": {
      "text/plain": [
       "<Figure size 640x480 with 1 Axes>"
      ]
     },
     "metadata": {},
     "output_type": "display_data"
    }
   ],
   "source": [
    "import matplotlib.pyplot as plt\n",
    "\n",
    "acc = history.history['acc']\n",
    "val_acc = history.history['val_acc']\n",
    "loss = history.history['loss']\n",
    "val_loss = history.history['val_loss']\n",
    "\n",
    "epochs = range(1, len(acc) + 1)\n",
    "\n",
    "# \"bo\" is for \"blue dot\"\n",
    "plt.plot(epochs, loss, 'bo', label='Training loss')\n",
    "# b is for \"solid blue line\"\n",
    "plt.plot(epochs, val_loss, 'b', label='Validation loss')\n",
    "plt.title('Training and validation loss')\n",
    "plt.xlabel('Epochs')\n",
    "plt.ylabel('Loss')\n",
    "plt.legend()\n",
    "\n",
    "plt.show()"
   ]
  },
  {
   "cell_type": "code",
   "execution_count": 20,
   "metadata": {},
   "outputs": [
    {
     "data": {
      "image/png": "[encoded data removed]",
      "text/plain": [
       "<Figure size 432x288 with 1 Axes>"
      ]
     },
     "metadata": {
      "needs_background": "light"
     },
     "output_type": "display_data"
    }
   ],
   "source": [
    "plt.clf()   # clear figure\n",
    "acc_values = history_dict['acc']\n",
    "val_acc_values = history_dict['val_acc']\n",
    "\n",
    "plt.plot(epochs, acc, 'bo', label='Training acc')\n",
    "plt.plot(epochs, val_acc, 'b', label='Validation acc')\n",
    "plt.title('Training and validation accuracy')\n",
    "plt.xlabel('Epochs')\n",
    "plt.ylabel('Accuracy')\n",
    "plt.legend()\n",
    "\n",
    "plt.show()"
   ]
  },
  {
   "cell_type": "code",
   "execution_count": null,
   "metadata": {},
   "outputs": [],
   "source": []
  }
 ],
 "metadata": {
  "kernelspec": {
   "display_name": "Python 3",
   "language": "python",
   "name": "python3"
  },
  "language_info": {
   "codemirror_mode": {
    "name": "ipython",
    "version": 3
   },
   "file_extension": ".py",
   "mimetype": "text/x-python",
   "name": "python",
   "nbconvert_exporter": "python",
   "pygments_lexer": "ipython3",
   "version": "3.6.7"
  }
 },
 "nbformat": 4,
 "nbformat_minor": 2
}
