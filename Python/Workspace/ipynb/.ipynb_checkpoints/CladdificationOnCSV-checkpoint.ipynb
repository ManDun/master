{
 "cells": [
  {
   "cell_type": "code",
   "execution_count": 119,
   "metadata": {},
   "outputs": [],
   "source": [
    "import tensorflow as tf\n",
    "import pandas as pd\n",
    "import numpy as np\n",
    "import matplotlib.pyplot as plt"
   ]
  },
  {
   "cell_type": "code",
   "execution_count": 120,
   "metadata": {},
   "outputs": [],
   "source": [
    "dataframe = pd.read_csv('data.csv')"
   ]
  },
  {
   "cell_type": "code",
   "execution_count": 121,
   "metadata": {},
   "outputs": [],
   "source": [
    "dataframe = dataframe.drop(['index', 'sq_price'], axis=1)"
   ]
  },
  {
   "cell_type": "code",
   "execution_count": 122,
   "metadata": {},
   "outputs": [],
   "source": [
    "dataframe = dataframe[0:10]"
   ]
  },
  {
   "cell_type": "code",
   "execution_count": 123,
   "metadata": {},
   "outputs": [],
   "source": [
    "dataframe.loc[:,('y')] = [1,1,1,0,0,1,0,1,1,1,]"
   ]
  },
  {
   "cell_type": "code",
   "execution_count": 124,
   "metadata": {},
   "outputs": [
    {
     "data": {
      "text/html": [
       "<div>\n",
       "<style scoped>\n",
       "    .dataframe tbody tr th:only-of-type {\n",
       "        vertical-align: middle;\n",
       "    }\n",
       "\n",
       "    .dataframe tbody tr th {\n",
       "        vertical-align: top;\n",
       "    }\n",
       "\n",
       "    .dataframe thead th {\n",
       "        text-align: right;\n",
       "    }\n",
       "</style>\n",
       "<table border=\"1\" class=\"dataframe\">\n",
       "  <thead>\n",
       "    <tr style=\"text-align: right;\">\n",
       "      <th></th>\n",
       "      <th>area</th>\n",
       "      <th>bathrooms</th>\n",
       "      <th>price</th>\n",
       "      <th>y</th>\n",
       "    </tr>\n",
       "  </thead>\n",
       "  <tbody>\n",
       "    <tr>\n",
       "      <th>0</th>\n",
       "      <td>2104.0</td>\n",
       "      <td>3.0</td>\n",
       "      <td>399900.0</td>\n",
       "      <td>1</td>\n",
       "    </tr>\n",
       "    <tr>\n",
       "      <th>1</th>\n",
       "      <td>1600.0</td>\n",
       "      <td>3.0</td>\n",
       "      <td>329900.0</td>\n",
       "      <td>1</td>\n",
       "    </tr>\n",
       "    <tr>\n",
       "      <th>2</th>\n",
       "      <td>2400.0</td>\n",
       "      <td>3.0</td>\n",
       "      <td>369000.0</td>\n",
       "      <td>1</td>\n",
       "    </tr>\n",
       "    <tr>\n",
       "      <th>3</th>\n",
       "      <td>1416.0</td>\n",
       "      <td>2.0</td>\n",
       "      <td>232000.0</td>\n",
       "      <td>0</td>\n",
       "    </tr>\n",
       "    <tr>\n",
       "      <th>4</th>\n",
       "      <td>3000.0</td>\n",
       "      <td>4.0</td>\n",
       "      <td>539900.0</td>\n",
       "      <td>0</td>\n",
       "    </tr>\n",
       "    <tr>\n",
       "      <th>5</th>\n",
       "      <td>1985.0</td>\n",
       "      <td>4.0</td>\n",
       "      <td>299900.0</td>\n",
       "      <td>1</td>\n",
       "    </tr>\n",
       "    <tr>\n",
       "      <th>6</th>\n",
       "      <td>1534.0</td>\n",
       "      <td>3.0</td>\n",
       "      <td>314900.0</td>\n",
       "      <td>0</td>\n",
       "    </tr>\n",
       "    <tr>\n",
       "      <th>7</th>\n",
       "      <td>1427.0</td>\n",
       "      <td>3.0</td>\n",
       "      <td>198999.0</td>\n",
       "      <td>1</td>\n",
       "    </tr>\n",
       "    <tr>\n",
       "      <th>8</th>\n",
       "      <td>1380.0</td>\n",
       "      <td>3.0</td>\n",
       "      <td>212000.0</td>\n",
       "      <td>1</td>\n",
       "    </tr>\n",
       "    <tr>\n",
       "      <th>9</th>\n",
       "      <td>1494.0</td>\n",
       "      <td>3.0</td>\n",
       "      <td>242500.0</td>\n",
       "      <td>1</td>\n",
       "    </tr>\n",
       "  </tbody>\n",
       "</table>\n",
       "</div>"
      ],
      "text/plain": [
       "     area  bathrooms     price  y\n",
       "0  2104.0        3.0  399900.0  1\n",
       "1  1600.0        3.0  329900.0  1\n",
       "2  2400.0        3.0  369000.0  1\n",
       "3  1416.0        2.0  232000.0  0\n",
       "4  3000.0        4.0  539900.0  0\n",
       "5  1985.0        4.0  299900.0  1\n",
       "6  1534.0        3.0  314900.0  0\n",
       "7  1427.0        3.0  198999.0  1\n",
       "8  1380.0        3.0  212000.0  1\n",
       "9  1494.0        3.0  242500.0  1"
      ]
     },
     "execution_count": 124,
     "metadata": {},
     "output_type": "execute_result"
    }
   ],
   "source": [
    "dataframe"
   ]
  },
  {
   "cell_type": "code",
   "execution_count": 125,
   "metadata": {},
   "outputs": [
    {
     "name": "stderr",
     "output_type": "stream",
     "text": [
      "/Library/Frameworks/Python.framework/Versions/3.6/lib/python3.6/site-packages/ipykernel_launcher.py:1: FutureWarning: Method .as_matrix will be removed in a future version. Use .values instead.\n",
      "  \"\"\"Entry point for launching an IPython kernel.\n",
      "/Library/Frameworks/Python.framework/Versions/3.6/lib/python3.6/site-packages/ipykernel_launcher.py:2: FutureWarning: Method .as_matrix will be removed in a future version. Use .values instead.\n",
      "  \n"
     ]
    }
   ],
   "source": [
    "inputX = dataframe.loc[:, ['area', 'bathrooms', 'price']].as_matrix()\n",
    "inputY = dataframe.loc[:, ['y']].as_matrix()"
   ]
  },
  {
   "cell_type": "code",
   "execution_count": 126,
   "metadata": {},
   "outputs": [],
   "source": [
    "learning_rate = 0.000001\n",
    "training_epochs = 2000\n",
    "display_step = 50\n",
    "n_samples = inputY.size"
   ]
  },
  {
   "cell_type": "code",
   "execution_count": 127,
   "metadata": {},
   "outputs": [],
   "source": [
    "# 3 is no of features\n",
    "x = tf.placeholder(tf.float32, [None,3])\n",
    "w = tf.Variable(tf.zeros([3,3]))\n",
    "b = tf.Variable(tf.zeros([3]))"
   ]
  },
  {
   "cell_type": "code",
   "execution_count": 128,
   "metadata": {},
   "outputs": [],
   "source": [
    "y_values = tf.add(tf.matmul(x, w), b)\n",
    "y = tf.nn.softmax(y_values)"
   ]
  },
  {
   "cell_type": "code",
   "execution_count": 129,
   "metadata": {},
   "outputs": [],
   "source": [
    "y_ = tf.placeholder(tf.float32, [None,1])"
   ]
  },
  {
   "cell_type": "code",
   "execution_count": 130,
   "metadata": {},
   "outputs": [],
   "source": [
    "cost = tf.reduce_sum(tf.pow(y_ - y, 2))/(2*n_samples)\n",
    "optimizer = tf.train.GradientDescentOptimizer(learning_rate).minimize(cost)"
   ]
  },
  {
   "cell_type": "code",
   "execution_count": 131,
   "metadata": {},
   "outputs": [],
   "source": [
    "init = tf.initialize_all_variables()\n",
    "sess = tf.Session()\n",
    "sess.run(init)"
   ]
  },
  {
   "cell_type": "code",
   "execution_count": 132,
   "metadata": {},
   "outputs": [
    {
     "name": "stdout",
     "output_type": "stream",
     "text": [
      "Step:  0000 Cost:   0.516667\n",
      "Step:  0050 Cost:   0.516667\n",
      "Step:  0100 Cost:   0.516667\n",
      "Step:  0150 Cost:   0.516667\n",
      "Step:  0200 Cost:   0.516667\n",
      "Step:  0250 Cost:   0.516667\n",
      "Step:  0300 Cost:   0.516667\n",
      "Step:  0350 Cost:   0.516667\n",
      "Step:  0400 Cost:   0.516667\n",
      "Step:  0450 Cost:   0.516667\n",
      "Step:  0500 Cost:   0.516667\n",
      "Step:  0550 Cost:   0.516667\n",
      "Step:  0600 Cost:   0.516667\n",
      "Step:  0650 Cost:   0.516667\n",
      "Step:  0700 Cost:   0.516667\n",
      "Step:  0750 Cost:   0.516667\n",
      "Step:  0800 Cost:   0.516667\n",
      "Step:  0850 Cost:   0.516667\n",
      "Step:  0900 Cost:   0.516667\n",
      "Step:  0950 Cost:   0.516667\n",
      "Step:  1000 Cost:   0.516667\n",
      "Step:  1050 Cost:   0.516667\n",
      "Step:  1100 Cost:   0.516667\n",
      "Step:  1150 Cost:   0.516667\n",
      "Step:  1200 Cost:   0.516667\n",
      "Step:  1250 Cost:   0.516667\n",
      "Step:  1300 Cost:   0.516667\n",
      "Step:  1350 Cost:   0.516667\n",
      "Step:  1400 Cost:   0.516667\n",
      "Step:  1450 Cost:   0.516667\n",
      "Step:  1500 Cost:   0.516667\n",
      "Step:  1550 Cost:   0.516667\n",
      "Step:  1600 Cost:   0.516667\n",
      "Step:  1650 Cost:   0.516667\n",
      "Step:  1700 Cost:   0.516667\n",
      "Step:  1750 Cost:   0.516667\n",
      "Step:  1800 Cost:   0.516667\n",
      "Step:  1850 Cost:   0.516667\n",
      "Step:  1900 Cost:   0.516667\n",
      "Step:  1950 Cost:   0.516667\n",
      "Done\n",
      "Cost:  0.5166666 W:  [[1.4777170e-08 1.4777170e-08 1.4777170e-08]\n",
      " [2.2351291e-11 2.2351291e-11 2.2351291e-11]\n",
      " [2.6990763e-06 2.6990763e-06 2.6990763e-06]] b:  [7.450627e-12 7.450627e-12 7.450627e-12]\n"
     ]
    }
   ],
   "source": [
    "for i in range(training_epochs):\n",
    "    sess.run(optimizer, feed_dict={x: inputX, y_: inputY})\n",
    "    \n",
    "    if i % display_step == 0:\n",
    "        cc = sess.run(cost, feed_dict={x:inputX, y_:inputY})\n",
    "        print('Step: ', '%04d' % (i), 'Cost: ', '{:9f}'.format(cc))\n",
    "    \n",
    "print('Done')\n",
    "training_cost = sess.run(cost, feed_dict={x: inputX, y_: inputY})\n",
    "print('Cost: ', training_cost, 'W: ', sess.run(w), 'b: ', sess.run(b)) "
   ]
  },
  {
   "cell_type": "code",
   "execution_count": 100,
   "metadata": {},
   "outputs": [
    {
     "data": {
      "text/plain": [
       "array([[1],\n",
       "       [1],\n",
       "       [1],\n",
       "       [0],\n",
       "       [0],\n",
       "       [1],\n",
       "       [0],\n",
       "       [1],\n",
       "       [1],\n",
       "       [1]])"
      ]
     },
     "execution_count": 100,
     "metadata": {},
     "output_type": "execute_result"
    }
   ],
   "source": [
    "inputY"
   ]
  },
  {
   "cell_type": "code",
   "execution_count": null,
   "metadata": {},
   "outputs": [],
   "source": []
  }
 ],
 "metadata": {
  "kernelspec": {
   "display_name": "Python 3",
   "language": "python",
   "name": "python3"
  },
  "language_info": {
   "codemirror_mode": {
    "name": "ipython",
    "version": 3
   },
   "file_extension": ".py",
   "mimetype": "text/x-python",
   "name": "python",
   "nbconvert_exporter": "python",
   "pygments_lexer": "ipython3",
   "version": "3.6.7"
  }
 },
 "nbformat": 4,
 "nbformat_minor": 2
}
