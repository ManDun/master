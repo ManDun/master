{
  "nbformat": 4,
  "nbformat_minor": 0,
  "metadata": {
    "colab": {
      "name": "Untitled.ipynb",
      "version": "0.3.2",
      "provenance": []
    },
    "language_info": {
      "codemirror_mode": {
        "name": "ipython",
        "version": 3
      },
      "file_extension": ".py",
      "mimetype": "text/x-python",
      "name": "python",
      "nbconvert_exporter": "python",
      "pygments_lexer": "ipython3",
      "version": "3.6.7"
    },
    "kernelspec": {
      "display_name": "Python 3",
      "language": "python",
      "name": "python3"
    }
  },
  "cells": [
    {
      "cell_type": "code",
      "metadata": {
        "id": "GhAqtP9iffvc",
        "colab_type": "code",
        "colab": {}
      },
      "source": [
        "import pandas as pd\n",
        "import matplotlib.pyplot as plt\n",
        "import numpy as np\n",
        "import seaborn as sns\n",
        "import sys\n",
        "import os"
      ],
      "execution_count": 0,
      "outputs": []
    },
    {
      "cell_type": "code",
      "metadata": {
        "id": "WmPzMum_ffvg",
        "colab_type": "code",
        "colab": {}
      },
      "source": [
        "df = pd.read_csv('../datasets/graduate-admissions/Admission_Predict.csv')"
      ],
      "execution_count": 0,
      "outputs": []
    },
    {
      "cell_type": "code",
      "metadata": {
        "id": "olG06SnRffvj",
        "colab_type": "code",
        "colab": {},
        "outputId": "7330e149-49b9-4aee-ec81-77af250495b4"
      },
      "source": [
        "print(len(df))\n",
        "for x in df.columns:\n",
        "    print(x)"
      ],
      "execution_count": 0,
      "outputs": [
        {
          "output_type": "stream",
          "text": [
            "400\n",
            "Serial No.\n",
            "GRE Score\n",
            "TOEFL Score\n",
            "University Rating\n",
            "SOP\n",
            "LOR \n",
            "CGPA\n",
            "Research\n",
            "Chance of Admit \n"
          ],
          "name": "stdout"
        }
      ]
    },
    {
      "cell_type": "code",
      "metadata": {
        "id": "g0mniHfjffvn",
        "colab_type": "code",
        "colab": {}
      },
      "source": [
        "df = df.rename(columns = {'Chance of Admit':'Chacne of Admit'})"
      ],
      "execution_count": 0,
      "outputs": []
    },
    {
      "cell_type": "code",
      "metadata": {
        "id": "E-CtLdAcffvp",
        "colab_type": "code",
        "colab": {},
        "outputId": "4aee1bb1-3b0d-4451-f46a-37ab4fd76486"
      },
      "source": [
        "df.info"
      ],
      "execution_count": 0,
      "outputs": [
        {
          "output_type": "execute_result",
          "data": {
            "text/plain": [
              "<bound method DataFrame.info of      Serial No.  GRE Score  TOEFL Score  University Rating  SOP  LOR   CGPA  \\\n",
              "0             1        337          118                  4  4.5   4.5  9.65   \n",
              "1             2        324          107                  4  4.0   4.5  8.87   \n",
              "2             3        316          104                  3  3.0   3.5  8.00   \n",
              "3             4        322          110                  3  3.5   2.5  8.67   \n",
              "4             5        314          103                  2  2.0   3.0  8.21   \n",
              "5             6        330          115                  5  4.5   3.0  9.34   \n",
              "6             7        321          109                  3  3.0   4.0  8.20   \n",
              "7             8        308          101                  2  3.0   4.0  7.90   \n",
              "8             9        302          102                  1  2.0   1.5  8.00   \n",
              "9            10        323          108                  3  3.5   3.0  8.60   \n",
              "10           11        325          106                  3  3.5   4.0  8.40   \n",
              "11           12        327          111                  4  4.0   4.5  9.00   \n",
              "12           13        328          112                  4  4.0   4.5  9.10   \n",
              "13           14        307          109                  3  4.0   3.0  8.00   \n",
              "14           15        311          104                  3  3.5   2.0  8.20   \n",
              "15           16        314          105                  3  3.5   2.5  8.30   \n",
              "16           17        317          107                  3  4.0   3.0  8.70   \n",
              "17           18        319          106                  3  4.0   3.0  8.00   \n",
              "18           19        318          110                  3  4.0   3.0  8.80   \n",
              "19           20        303          102                  3  3.5   3.0  8.50   \n",
              "20           21        312          107                  3  3.0   2.0  7.90   \n",
              "21           22        325          114                  4  3.0   2.0  8.40   \n",
              "22           23        328          116                  5  5.0   5.0  9.50   \n",
              "23           24        334          119                  5  5.0   4.5  9.70   \n",
              "24           25        336          119                  5  4.0   3.5  9.80   \n",
              "25           26        340          120                  5  4.5   4.5  9.60   \n",
              "26           27        322          109                  5  4.5   3.5  8.80   \n",
              "27           28        298           98                  2  1.5   2.5  7.50   \n",
              "28           29        295           93                  1  2.0   2.0  7.20   \n",
              "29           30        310           99                  2  1.5   2.0  7.30   \n",
              "..          ...        ...          ...                ...  ...   ...   ...   \n",
              "370         371        310          103                  2  2.5   2.5  8.24   \n",
              "371         372        324          110                  3  3.5   3.0  9.22   \n",
              "372         373        336          119                  4  4.5   4.0  9.62   \n",
              "373         374        321          109                  3  3.0   3.0  8.54   \n",
              "374         375        315          105                  2  2.0   2.5  7.65   \n",
              "375         376        304          101                  2  2.0   2.5  7.66   \n",
              "376         377        297           96                  2  2.5   2.0  7.43   \n",
              "377         378        290          100                  1  1.5   2.0  7.56   \n",
              "378         379        303           98                  1  2.0   2.5  7.65   \n",
              "379         380        311           99                  1  2.5   3.0  8.43   \n",
              "380         381        322          104                  3  3.5   4.0  8.84   \n",
              "381         382        319          105                  3  3.0   3.5  8.67   \n",
              "382         383        324          110                  4  4.5   4.0  9.15   \n",
              "383         384        300          100                  3  3.0   3.5  8.26   \n",
              "384         385        340          113                  4  5.0   5.0  9.74   \n",
              "385         386        335          117                  5  5.0   5.0  9.82   \n",
              "386         387        302          101                  2  2.5   3.5  7.96   \n",
              "387         388        307          105                  2  2.0   3.5  8.10   \n",
              "388         389        296           97                  2  1.5   2.0  7.80   \n",
              "389         390        320          108                  3  3.5   4.0  8.44   \n",
              "390         391        314          102                  2  2.0   2.5  8.24   \n",
              "391         392        318          106                  3  2.0   3.0  8.65   \n",
              "392         393        326          112                  4  4.0   3.5  9.12   \n",
              "393         394        317          104                  2  3.0   3.0  8.76   \n",
              "394         395        329          111                  4  4.5   4.0  9.23   \n",
              "395         396        324          110                  3  3.5   3.5  9.04   \n",
              "396         397        325          107                  3  3.0   3.5  9.11   \n",
              "397         398        330          116                  4  5.0   4.5  9.45   \n",
              "398         399        312          103                  3  3.5   4.0  8.78   \n",
              "399         400        333          117                  4  5.0   4.0  9.66   \n",
              "\n",
              "     Research  Chance of Admit   \n",
              "0           1              0.92  \n",
              "1           1              0.76  \n",
              "2           1              0.72  \n",
              "3           1              0.80  \n",
              "4           0              0.65  \n",
              "5           1              0.90  \n",
              "6           1              0.75  \n",
              "7           0              0.68  \n",
              "8           0              0.50  \n",
              "9           0              0.45  \n",
              "10          1              0.52  \n",
              "11          1              0.84  \n",
              "12          1              0.78  \n",
              "13          1              0.62  \n",
              "14          1              0.61  \n",
              "15          0              0.54  \n",
              "16          0              0.66  \n",
              "17          1              0.65  \n",
              "18          0              0.63  \n",
              "19          0              0.62  \n",
              "20          1              0.64  \n",
              "21          0              0.70  \n",
              "22          1              0.94  \n",
              "23          1              0.95  \n",
              "24          1              0.97  \n",
              "25          1              0.94  \n",
              "26          0              0.76  \n",
              "27          1              0.44  \n",
              "28          0              0.46  \n",
              "29          0              0.54  \n",
              "..        ...               ...  \n",
              "370         0              0.72  \n",
              "371         1              0.89  \n",
              "372         1              0.95  \n",
              "373         1              0.79  \n",
              "374         0              0.39  \n",
              "375         0              0.38  \n",
              "376         0              0.34  \n",
              "377         0              0.47  \n",
              "378         0              0.56  \n",
              "379         1              0.71  \n",
              "380         1              0.78  \n",
              "381         1              0.73  \n",
              "382         1              0.82  \n",
              "383         0              0.62  \n",
              "384         1              0.96  \n",
              "385         1              0.96  \n",
              "386         0              0.46  \n",
              "387         0              0.53  \n",
              "388         0              0.49  \n",
              "389         1              0.76  \n",
              "390         0              0.64  \n",
              "391         0              0.71  \n",
              "392         1              0.84  \n",
              "393         0              0.77  \n",
              "394         1              0.89  \n",
              "395         1              0.82  \n",
              "396         1              0.84  \n",
              "397         1              0.91  \n",
              "398         0              0.67  \n",
              "399         1              0.95  \n",
              "\n",
              "[400 rows x 9 columns]>"
            ]
          },
          "metadata": {
            "tags": []
          },
          "execution_count": 8
        }
      ]
    },
    {
      "cell_type": "code",
      "metadata": {
        "id": "vFxN08xvffvt",
        "colab_type": "code",
        "colab": {}
      },
      "source": [
        ""
      ],
      "execution_count": 0,
      "outputs": []
    }
  ]
}